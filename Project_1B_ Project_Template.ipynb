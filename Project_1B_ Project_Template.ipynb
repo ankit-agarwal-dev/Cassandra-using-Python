{
 "cells": [
  {
   "cell_type": "markdown",
   "metadata": {},
   "source": [
    "# Demo for showcasing ETL pipeline for Cassandra"
   ]
  },
  {
   "cell_type": "code",
   "execution_count": 1,
   "metadata": {},
   "outputs": [],
   "source": [
    "# Importing Python packages \n",
    "\n",
    "import pandas as pd\n",
    "import cassandra\n",
    "import re\n",
    "import os\n",
    "import glob\n",
    "import numpy as np\n",
    "import json\n",
    "import csv"
   ]
  },
  {
   "cell_type": "code",
   "execution_count": 2,
   "metadata": {},
   "outputs": [],
   "source": [
    "# Geting Current Working directory and attaching event_data subfolder in the path\n",
    "\n",
    "filepath = os.getcwd() + '/event_data'\n",
    "\n",
    "for root, dirs, files in os.walk(filepath):\n",
    "    file_path_list = glob.glob(os.path.join(root,'*'))"
   ]
  },
  {
   "cell_type": "code",
   "execution_count": 3,
   "metadata": {},
   "outputs": [],
   "source": [
    "# Processing all the files to create a new single data file that can be processed and inserted into tables for querying\n",
    "\n",
    "full_data_rows_list = [] \n",
    "    \n",
    "# Loop for every file in the directory \n",
    "for f in file_path_list:\n",
    "\n",
    "    # reading csv file \n",
    "    with open(f, 'r', encoding = 'utf8', newline='') as csvfile: \n",
    "        # creating a csv reader object \n",
    "        csvreader = csv.reader(csvfile) \n",
    "        next(csvreader)\n",
    "        \n",
    "         # extracting each data record one by one and append it        \n",
    "        for line in csvreader:\n",
    "            full_data_rows_list.append(line) \n",
    "            \n",
    "# Creating a new single file from the collated values of all files\n",
    "csv.register_dialect('myDialect', quoting=csv.QUOTE_ALL, skipinitialspace=True)\n",
    "\n",
    "with open('event_datafile_new.csv', 'w', encoding = 'utf8', newline='') as f:\n",
    "    writer = csv.writer(f, dialect='myDialect')\n",
    "    writer.writerow(['artist','firstName','gender','itemInSession','lastName','length',\\\n",
    "                'level','location','sessionId','song','userId'])\n",
    "    for row in full_data_rows_list:\n",
    "        if (row[0] == ''): # Skipping records with no data in first field (Artist Name) \n",
    "            continue\n",
    "        # Writing useful fields to a new file    \n",
    "        writer.writerow((row[0], row[2], row[3], row[4], row[5], row[6], row[7], row[8], row[12], row[13], row[16])) "
   ]
  },
  {
   "cell_type": "code",
   "execution_count": 4,
   "metadata": {},
   "outputs": [],
   "source": [
    "# Creating a connection to a Cassandra instance \n",
    "from cassandra.cluster import Cluster\n",
    "try:\n",
    "    cluster = Cluster(['127.0.0.1'])\n",
    "    session = cluster.connect()\n",
    "except Exception as e:\n",
    "    print(e)"
   ]
  },
  {
   "cell_type": "code",
   "execution_count": 5,
   "metadata": {},
   "outputs": [],
   "source": [
    "# Creating a Keyspace \n",
    "try:\n",
    "    session.execute(\"\"\"\n",
    "    CREATE KEYSPACE IF NOT EXISTS ankit \n",
    "    WITH REPLICATION = \n",
    "    { 'class' : 'SimpleStrategy', 'replication_factor' : 1 }\"\"\"\n",
    "    )\n",
    "except Exception as e:\n",
    "    print(e)"
   ]
  },
  {
   "cell_type": "code",
   "execution_count": 6,
   "metadata": {},
   "outputs": [],
   "source": [
    "# Setting KEYSPACE\n",
    "try:\n",
    "    session.set_keyspace('ankit')\n",
    "except Exception as e:\n",
    "    print(e)"
   ]
  },
  {
   "cell_type": "markdown",
   "metadata": {},
   "source": [
    "### Next three Blocks are detailed for providing a solution to following type of queries :-\n",
    "### Give me the artist name, song title and song's length in the music app history that was heard during session Id = \"session id\" and item In Session  = \"Item in session Id\""
   ]
  },
  {
   "cell_type": "code",
   "execution_count": 7,
   "metadata": {},
   "outputs": [],
   "source": [
    "# Since mutiple songs can be played in a session hence that can't be single unique column hence a numbered column (Item in Session) is added for uniqueness. \n",
    "# Given the nature of query, Primary key for the above query is defined as Composite primary key on Session_Id and item_in_session column.\n",
    "# Above composite Primary key give uniquesness to data hence a perfect candidate for Primary key in this scenario.\n",
    "# Composite Primary Key - session_id, item_in_session - Providing uniqueness to each record.\n",
    "# Partition Key - session_id - Session Id will distribute the data evenly across nodes. This might not be entirely correct as data in one session caould be \n",
    "#                              different than data in another but given the nature of query this is the best bet.  \n",
    "# Clustering Key - item_in_session - Providing sorting within the Partition. \n",
    "\n",
    "query = \"create table if not exists session_details\"\n",
    "query = query + \"(session_id int, item_in_session int, artist_name text, song_title text, song_length float, PRIMARY KEY (session_id, item_in_session))\"\n",
    "try:\n",
    "    session.execute(query)\n",
    "except Exception as e:\n",
    "    print(e)"
   ]
  },
  {
   "cell_type": "code",
   "execution_count": 8,
   "metadata": {
    "scrolled": false
   },
   "outputs": [],
   "source": [
    "# Inserting the relevant fields from new single file into the session_details table.\n",
    "file_name = 'event_datafile_new.csv'\n",
    "\n",
    "with open(file_name, encoding = 'utf8') as f:\n",
    "    csvreader = csv.reader(f)\n",
    "    next(csvreader) # skipping header\n",
    "    for line in csvreader:\n",
    "        # Inserting only relevant columns for the specific query.\n",
    "        query = \"insert into session_details(session_id,item_in_session, artist_name, song_title, song_length)\"\n",
    "        query = query + \"values (%s,%s,%s,%s,%s)\"\n",
    "        # Inserting record in table after appropriate data type conversion\n",
    "        session.execute(query, (int(line[8]), int(line[3]), line[0], line[9], float(line[5])))"
   ]
  },
  {
   "cell_type": "code",
   "execution_count": 9,
   "metadata": {
    "scrolled": true
   },
   "outputs": [
    {
     "name": "stdout",
     "output_type": "stream",
     "text": [
      "Details for song that have been played in Session Id = 139 and correspoding to Item in the session = 1 is as follows: \n",
      "Artist Name is : Des'ree, Song is : You Gotta Be and Song Length is : 246.30812072753906\n"
     ]
    }
   ],
   "source": [
    "# Selecting data from table to for outputting the desired result.\n",
    "query = \"select artist_name, song_title, song_length from session_details where session_id=139 and item_in_session=1\"\n",
    "\n",
    "try:\n",
    "    output_data = session.execute(query)\n",
    "except Exception as e:\n",
    "    print(e)\n",
    "\n",
    "# Output for Query 1\n",
    "print(\"Details for song that have been played in Session Id = 139 and correspoding to Item in the session = 1 is as follows: \")\n",
    "\n",
    "for row in output_data:\n",
    "    print(\"Artist Name is : \" + row.artist_name +\", Song is : \" + row.song_title + \" and Song Length is : \" + str(row.song_length))"
   ]
  },
  {
   "cell_type": "markdown",
   "metadata": {},
   "source": [
    "### Next three Blocks are detailed for providing a solution to following type of queries :-\n",
    "### Give me only the following: name of artist, song (sorted by itemInSession) and user (first and last name) for userid = \"Input User Id\", sessionid = \"Input Session Id\""
   ]
  },
  {
   "cell_type": "code",
   "execution_count": 10,
   "metadata": {},
   "outputs": [],
   "source": [
    "# A session can have mutiple songs played by a user hence these two alone can't provide uniqueness.  \n",
    "# session_id, user_id and item_in_session column provide the uniqueness to the record (based on nature of query).\n",
    "# user_id or session_id could be a candidate for Partition key but looking at nature of data every session will \n",
    "# only be associarted with a single user id hence both together will form a better Composite Partition key. However\n",
    "# since a user can span across multiple session hence session_id would be the first column while user_id would be second. \n",
    "\n",
    "# Composite Primary Key - session_id, user_id, item_in_session - Providing uniqueness to each record.\n",
    "# Composite Partition Key - session_id, user_id  - Providing a good evenly distributed data (based on query).  \n",
    "# Clustering Key - item_in_session - Providing sorting within the Partition.\n",
    "\n",
    "query = \"create table if not exists user_session_details\"\n",
    "\n",
    "query = query + \"(session_id int, user_id int, item_in_session int, first_name text, last_name text, song_title text, \\\n",
    "                  artist_name text, PRIMARY KEY ((session_id, user_id), item_in_session))\"\n",
    "try:\n",
    "    session.execute(query)\n",
    "except Exception as e:\n",
    "    print(e)"
   ]
  },
  {
   "cell_type": "code",
   "execution_count": 11,
   "metadata": {},
   "outputs": [],
   "source": [
    "# Inserting the relevant fields from new sigle file into the session_details table.\n",
    "\n",
    "file = 'event_datafile_new.csv'\n",
    "\n",
    "with open(file, encoding = 'utf8') as f:\n",
    "    csvreader = csv.reader(f)\n",
    "    next(csvreader) # skip header\n",
    "    for line in csvreader:\n",
    "        # Inserting only relevant columns for the specific query.\n",
    "        query = \"insert into user_session_details( session_id, user_id, item_in_session, first_name, last_name, song_title, artist_name)\"\n",
    "        query = query + \"values (%s,%s,%s,%s,%s,%s,%s)\"\n",
    "        # Inserting record in table after appropriate data type conversion\n",
    "        session.execute(query, (int(line[8]), int(line[10]), int(line[3]), line[1],line[4], line[9], line[0]))"
   ]
  },
  {
   "cell_type": "code",
   "execution_count": 12,
   "metadata": {},
   "outputs": [
    {
     "name": "stdout",
     "output_type": "stream",
     "text": [
      "Details of song that has been played by a user in a session (user id=8 and session_id=139) is as follows: \n",
      "User Name is : Kaylee Summers, Artist Name is : Des'ree and Song title is : You Gotta Be\n",
      "User Name is : Kaylee Summers, Artist Name is : Mr Oizo and Song title is : Flat 55\n",
      "User Name is : Kaylee Summers, Artist Name is : Tamba Trio and Song title is : Quem Quiser Encontrar O Amor\n",
      "User Name is : Kaylee Summers, Artist Name is : The Mars Volta and Song title is : Eriatarka\n",
      "User Name is : Kaylee Summers, Artist Name is : Infected Mushroom and Song title is : Becoming Insane\n",
      "User Name is : Kaylee Summers, Artist Name is : Blue October / Imogen Heap and Song title is : Congratulations\n",
      "User Name is : Kaylee Summers, Artist Name is : Girl Talk and Song title is : Once again\n"
     ]
    }
   ],
   "source": [
    "# Selecting data from table for outputting the desired result.\n",
    "query = \"select artist_name, song_title, first_name, last_name from user_session_details where session_id = 139 and user_id=8\"\n",
    "try:\n",
    "    output_data = session.execute(query)\n",
    "except Exception as e:\n",
    "    print(e)\n",
    "\n",
    "# Output for Query 2\n",
    "print(\"Details of song that has been played by a user in a session (user id=8 and session_id=139) is as follows: \")\n",
    "\n",
    "for row in output_data:\n",
    "    print(\"User Name is : \" + row.first_name+ ' ' + row.last_name+\", Artist Name is : \" + row.artist_name +\" and Song title is : \" + row.song_title)"
   ]
  },
  {
   "cell_type": "markdown",
   "metadata": {
    "toggleable": false,
    "ulab": {
     "buttons": {
      "ulab-button-toggle-307f5632": {
       "style": "primary"
      }
     }
    }
   },
   "source": [
    "### Next three Blocks are detailed for providing a solution to following type of queries :-\n",
    "### Give me every user name (first and last) in my music app history who listened to the song =\" Input Song Name\""
   ]
  },
  {
   "cell_type": "code",
   "execution_count": 13,
   "metadata": {},
   "outputs": [],
   "source": [
    "# A song can be played by mutiple users across session. Hence Song itself is not enough to provide uniqueness to record.\n",
    "# Hence song is paired up with user_id to provide uniqueness.  \n",
    "\n",
    "# Composite Primary Key - song_title, user_id - Providing uniqueness to each record.\n",
    "# Partition Key - song_title  - Providing a good evenly distributed data (based on query).  \n",
    "# Clustering Key - user_id - Providing sorting within the Partition.\n",
    "\n",
    "query = \"create table if not exists user_song_details\"\n",
    "\n",
    "query = query + \"(song_title text,user_id int, sesion_id int, item_in_session int, first_name text, last_name text,PRIMARY KEY (song_title, user_id))\"\n",
    "\n",
    "try:\n",
    "    session.execute(query)\n",
    "except Exception as e:\n",
    "    print(e)        "
   ]
  },
  {
   "cell_type": "code",
   "execution_count": 15,
   "metadata": {},
   "outputs": [],
   "source": [
    "# Inserting the relevant fields from new sigle file into the session_details table.\n",
    "\n",
    "file = 'event_datafile_new.csv'\n",
    "\n",
    "with open(file, encoding = 'utf8') as f:\n",
    "    csvreader = csv.reader(f)\n",
    "    next(csvreader) # skip header\n",
    "    for line in csvreader:\n",
    "        # Inserting only relevant columns for the specific query.\n",
    "        query = \"insert into user_song_details(song_title, user_id, first_name, last_name)\"\n",
    "        query = query + \"values (%s,%s,%s,%s)\"\n",
    "        session.execute(query, (line[9], int(line[10]), line[1], line[4]))"
   ]
  },
  {
   "cell_type": "code",
   "execution_count": 16,
   "metadata": {},
   "outputs": [
    {
     "name": "stdout",
     "output_type": "stream",
     "text": [
      "Details of users who has played the song ('Fireflies') are as follows:\n",
      "User name is : Chloe Cuevas\n",
      "User name is : Jayden Fox\n"
     ]
    }
   ],
   "source": [
    "# Selecting data from table for outputting the desired result.\n",
    "\n",
    "query = \"select first_name,last_name from user_song_details where song_title='Fireflies'\"\n",
    "\n",
    "try:\n",
    "    output_data = session.execute(query)\n",
    "except Exception as e:\n",
    "    print(e)\n",
    "    \n",
    "# Output for Query 3\n",
    "print(\"Details of users who has played the song ('Fireflies') are as follows:\")\n",
    "\n",
    "for row in output_data:\n",
    "    print (\"User name is : \" + row.first_name + ' ' + row.last_name)"
   ]
  },
  {
   "cell_type": "code",
   "execution_count": 17,
   "metadata": {},
   "outputs": [],
   "source": [
    "# Dropping the tables\n",
    "# Selecting data from table for outputting the desired result.\n",
    "\n",
    "query = \"drop table if exists session_details\"\n",
    "\n",
    "try:\n",
    "    output_data = session.execute(query)\n",
    "except Exception as e:\n",
    "    print(e)\n",
    "\n",
    "query = \"drop table if exists user_session_details\"\n",
    "\n",
    "try:\n",
    "    output_data = session.execute(query)\n",
    "except Exception as e:\n",
    "    print(e)\n",
    "    \n",
    "query = \"drop table if exists user_song_details\"\n",
    "\n",
    "try:\n",
    "    output_data = session.execute(query)\n",
    "except Exception as e:\n",
    "    print(e)"
   ]
  },
  {
   "cell_type": "code",
   "execution_count": 18,
   "metadata": {},
   "outputs": [],
   "source": [
    "# Closing session and cluster\n",
    "\n",
    "session.shutdown()\n",
    "cluster.shutdown()"
   ]
  }
 ],
 "metadata": {
  "kernelspec": {
   "display_name": "Python 3",
   "language": "python",
   "name": "python3"
  },
  "language_info": {
   "codemirror_mode": {
    "name": "ipython",
    "version": 3
   },
   "file_extension": ".py",
   "mimetype": "text/x-python",
   "name": "python",
   "nbconvert_exporter": "python",
   "pygments_lexer": "ipython3",
   "version": "3.6.3"
  }
 },
 "nbformat": 4,
 "nbformat_minor": 2
}
